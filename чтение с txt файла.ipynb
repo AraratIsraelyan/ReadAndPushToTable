{
 "cells": [
  {
   "cell_type": "code",
   "execution_count": 3,
   "id": "initial_id",
   "metadata": {
    "collapsed": true,
    "ExecuteTime": {
     "end_time": "2024-01-15T18:28:59.321724672Z",
     "start_time": "2024-01-15T18:28:59.315366061Z"
    }
   },
   "outputs": [
    {
     "name": "stdout",
     "output_type": "stream",
     "text": [
      "                   Branch   User_ID    Permission\n",
      "0   'Atlassian/Java_test0  13448396     READ_ONLY\n",
      "1   'Atlassian/Java_test0   1414145     READ_ONLY\n",
      "2   'Atlassian/Java_test0    148563  READ_WRITE',\n",
      "3   'Atlassian/Java_test4  13448396     READ_ONLY\n",
      "4   'Atlassian/Java_test4   1414145     READ_ONLY\n",
      "5   'Atlassian/Java_test4    148563    READ_WRITE\n",
      "6   'Atlassian/Java_test4   7863225  READ_WRITE',\n",
      "7   'Atlassian/Java_test5  13448396     READ_ONLY\n",
      "8   'Atlassian/Java_test5   1414145     READ_ONLY\n",
      "9   'Atlassian/Java_test5    148563    READ_WRITE\n",
      "10  'Atlassian/Java_test5   7863225    READ_WRITE\n",
      "11  'Atlassian/Java_test5  13448396     READ_ONLY\n",
      "12  'Atlassian/Java_test5   1414145     READ_ONLY\n",
      "13  'Atlassian/Java_test5    148563    READ_WRITE\n",
      "14  'Atlassian/Java_test5   7863225   READ_WRITE'\n",
      "15  'Atlassian/Java_test0  13448396     READ_ONLY\n",
      "16  'Atlassian/Java_test0   1414145     READ_ONLY\n",
      "17  'Atlassian/Java_test0    148563  READ_WRITE',\n",
      "18  'Atlassian/Java_test4  13448396     READ_ONLY\n",
      "19  'Atlassian/Java_test4   1414145     READ_ONLY\n",
      "20  'Atlassian/Java_test4    148563    READ_WRITE\n",
      "21  'Atlassian/Java_test4   7863225  READ_WRITE',\n",
      "22  'Atlassian/Java_test5  13448396     READ_ONLY\n",
      "23  'Atlassian/Java_test5   1414145     READ_ONLY\n",
      "24  'Atlassian/Java_test5    148563    READ_WRITE\n",
      "25  'Atlassian/Java_test5   7863225    READ_WRITE\n",
      "26  'Atlassian/Java_test5  13448396     READ_ONLY\n",
      "27  'Atlassian/Java_test5   1414145     READ_ONLY\n",
      "28  'Atlassian/Java_test5    148563    READ_WRITE\n",
      "29  'Atlassian/Java_test5   7863225   READ_WRITE'\n",
      "30  'Atlassian/Java_test0  13448396     READ_ONLY\n",
      "31  'Atlassian/Java_test0   1414145     READ_ONLY\n",
      "32  'Atlassian/Java_test0    148563  READ_WRITE',\n",
      "33  'Atlassian/Java_test4  13448396     READ_ONLY\n",
      "34  'Atlassian/Java_test4   1414145     READ_ONLY\n",
      "35  'Atlassian/Java_test4    148563    READ_WRITE\n",
      "36  'Atlassian/Java_test4   7863225  READ_WRITE',\n",
      "37  'Atlassian/Java_test5  13448396     READ_ONLY\n",
      "38  'Atlassian/Java_test5   1414145     READ_ONLY\n",
      "39  'Atlassian/Java_test5    148563    READ_WRITE\n",
      "40  'Atlassian/Java_test5   7863225    READ_WRITE\n",
      "41  'Atlassian/Java_test5  13448396     READ_ONLY\n",
      "42  'Atlassian/Java_test5   1414145     READ_ONLY\n",
      "43  'Atlassian/Java_test5    148563    READ_WRITE\n",
      "44  'Atlassian/Java_test5   7863225   READ_WRITE'\n",
      "45  'Atlassian/Java_test0  13448396     READ_ONLY\n",
      "46  'Atlassian/Java_test0   1414145     READ_ONLY\n",
      "47  'Atlassian/Java_test0    148563  READ_WRITE',\n",
      "48  'Atlassian/Java_test4  13448396     READ_ONLY\n",
      "49  'Atlassian/Java_test4   1414145     READ_ONLY\n",
      "50  'Atlassian/Java_test4    148563    READ_WRITE\n",
      "51  'Atlassian/Java_test4   7863225  READ_WRITE',\n",
      "52  'Atlassian/Java_test5  13448396     READ_ONLY\n",
      "53  'Atlassian/Java_test5   1414145     READ_ONLY\n",
      "54  'Atlassian/Java_test5    148563    READ_WRITE\n",
      "55  'Atlassian/Java_test5   7863225    READ_WRITE\n",
      "56  'Atlassian/Java_test5  13448396     READ_ONLY\n",
      "57  'Atlassian/Java_test5   1414145     READ_ONLY\n",
      "58  'Atlassian/Java_test5    148563    READ_WRITE\n",
      "59  'Atlassian/Java_test5   7863225   READ_WRITE'\n"
     ]
    }
   ],
   "source": [
    "import pandas as pd\n",
    "\n",
    "# Read data from the txt file\n",
    "with open('input.txt', 'r') as file:\n",
    "    data = {'strings': file.readlines()}\n",
    "\n",
    "# Extract information and create a new dataframe\n",
    "user_data = {'Branch': [], 'User_ID': [], 'Permission': []}\n",
    "\n",
    "for entry in data['strings']:\n",
    "    parts = entry.split('|')\n",
    "    test_name = parts[0].strip()\n",
    "\n",
    "    for i in range(1, len(parts), 2):\n",
    "        user_info = parts[i].split(':')\n",
    "        user_id = user_info[1].strip()\n",
    "        permission_info = parts[i+1].split(':')\n",
    "        permission = permission_info[1].strip()\n",
    "\n",
    "        user_data['Branch'].append(test_name)\n",
    "        user_data['User_ID'].append(user_id)\n",
    "        user_data['Permission'].append(permission)\n",
    "\n",
    "# Create a DataFrame from the extracted data\n",
    "df = pd.DataFrame(user_data)\n",
    "\n",
    "# Display the resulting DataFrame\n",
    "print(df)"
   ]
  },
  {
   "cell_type": "code",
   "outputs": [],
   "source": [],
   "metadata": {
    "collapsed": false
   },
   "id": "cf9b85561fc75dc1"
  }
 ],
 "metadata": {
  "kernelspec": {
   "display_name": "Python 3",
   "language": "python",
   "name": "python3"
  },
  "language_info": {
   "codemirror_mode": {
    "name": "ipython",
    "version": 2
   },
   "file_extension": ".py",
   "mimetype": "text/x-python",
   "name": "python",
   "nbconvert_exporter": "python",
   "pygments_lexer": "ipython2",
   "version": "2.7.6"
  }
 },
 "nbformat": 4,
 "nbformat_minor": 5
}
