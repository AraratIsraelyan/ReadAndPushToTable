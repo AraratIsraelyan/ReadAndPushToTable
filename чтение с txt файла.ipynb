{
 "cells": [
  {
   "cell_type": "code",
   "execution_count": null,
   "id": "93c9e71de80dd09b",
   "metadata": {
    "collapsed": false
   },
   "outputs": [],
   "source": [
    "import pandas as pd"
   ]
  },
  {
   "cell_type": "code",
   "outputs": [],
   "source": [
    "with open('input.txt', 'r') as file:\n",
    "    data = {'strings': file.readlines()}"
   ],
   "metadata": {
    "collapsed": false
   },
   "id": "7531b5e4290ef9d5",
   "execution_count": null
  },
  {
   "cell_type": "code",
   "outputs": [],
   "source": [
    "user_data = {'Branch': [], 'User_ID': [], 'Permission': []}"
   ],
   "metadata": {
    "collapsed": false
   },
   "id": "cb1ff1130678d4a5",
   "execution_count": null
  },
  {
   "cell_type": "code",
   "outputs": [],
   "source": [
    "for entry in data['strings']:\n",
    "    parts = entry.split('|')\n",
    "    test_name = parts[0].strip()\n",
    "\n",
    "    for i in range(1, len(parts)-1, 2):\n",
    "        user_info = parts[i].split(':')\n",
    "        user_id = user_info[1].split()[0].strip()\n",
    "        permission_info = parts[i+1].split(':')\n",
    "        permission = permission_info[1].split()[1].strip()\n",
    "\n",
    "        user_data['Branch'].append(test_name)\n",
    "        user_data['User_ID'].append(user_id)\n",
    "        user_data['Permission'].append(permission)"
   ],
   "metadata": {
    "collapsed": false
   },
   "id": "34630b2d4fb62e0b",
   "execution_count": null
  },
  {
   "cell_type": "code",
   "outputs": [],
   "source": [
    "df = pd.DataFrame(user_data)"
   ],
   "metadata": {
    "collapsed": true
   },
   "id": "initial_id",
   "execution_count": null
  },
  {
   "cell_type": "code",
   "outputs": [],
   "source": [
    "df"
   ],
   "metadata": {
    "collapsed": false
   },
   "id": "cf9b85561fc75dc1",
   "execution_count": null
  },
  {
   "cell_type": "code",
   "outputs": [],
   "source": [],
   "metadata": {
    "collapsed": false
   },
   "id": "94e347e0003d6879"
  }
 ],
 "metadata": {
  "kernelspec": {
   "display_name": "Python 3",
   "language": "python",
   "name": "python3"
  },
  "language_info": {
   "codemirror_mode": {
    "name": "ipython",
    "version": 2
   },
   "file_extension": ".py",
   "mimetype": "text/x-python",
   "name": "python",
   "nbconvert_exporter": "python",
   "pygments_lexer": "ipython2",
   "version": "2.7.6"
  }
 },
 "nbformat": 4,
 "nbformat_minor": 5
}
