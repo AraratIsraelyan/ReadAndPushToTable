{
 "cells": [
  {
   "cell_type": "code",
   "execution_count": null,
   "id": "initial_id",
   "metadata": {
    "collapsed": true
   },
   "outputs": [],
   "source": [
    "import pandas as pd\n",
    "\n",
    "# Read data from the txt file\n",
    "with open('input.txt', 'r') as file:\n",
    "    data = {'strings': file.readlines()}\n",
    "\n",
    "# Extract information and create a new dataframe\n",
    "user_data = {'Branch': [], 'User_ID': [], 'Permission': []}\n",
    "\n",
    "for entry in data['strings']:\n",
    "    parts = entry.split('|')\n",
    "    test_name = parts[0].strip()\n",
    "\n",
    "    for i in range(1, len(parts), 2):\n",
    "        user_info = parts[i].split(':')\n",
    "        user_id = user_info[1].strip()\n",
    "        permission_info = parts[i+1].split(':')\n",
    "        permission = permission_info[1].strip()\n",
    "\n",
    "        user_data['Branch'].append(test_name)\n",
    "        user_data['User_ID'].append(user_id)\n",
    "        user_data['Permission'].append(permission)\n",
    "\n",
    "# Create a DataFrame from the extracted data\n",
    "df = pd.DataFrame(user_data)\n",
    "\n",
    "# Display the resulting DataFrame\n",
    "print(df)"
   ]
  },
  {
   "cell_type": "code",
   "outputs": [],
   "source": [],
   "metadata": {
    "collapsed": false
   },
   "id": "cf9b85561fc75dc1"
  }
 ],
 "metadata": {
  "kernelspec": {
   "display_name": "Python 3",
   "language": "python",
   "name": "python3"
  },
  "language_info": {
   "codemirror_mode": {
    "name": "ipython",
    "version": 2
   },
   "file_extension": ".py",
   "mimetype": "text/x-python",
   "name": "python",
   "nbconvert_exporter": "python",
   "pygments_lexer": "ipython2",
   "version": "2.7.6"
  }
 },
 "nbformat": 4,
 "nbformat_minor": 5
}
