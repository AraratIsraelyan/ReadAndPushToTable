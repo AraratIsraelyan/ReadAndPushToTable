{
 "cells": [
  {
   "cell_type": "code",
   "execution_count": 1,
   "id": "c16646bff0726ae5",
   "metadata": {
    "collapsed": false,
    "ExecuteTime": {
     "end_time": "2024-01-15T18:25:35.187090985Z",
     "start_time": "2024-01-15T18:25:34.947839058Z"
    }
   },
   "outputs": [],
   "source": [
    "import pandas as pd"
   ]
  },
  {
   "cell_type": "code",
   "outputs": [],
   "source": [
    "# Your data\n",
    "data = {'strings': [\n",
    "    'Atlassian/Java_test0 | User: 13448396 | Permissions: READ_ONLY | User: 1414145 | Permissions: READ_ONLY | User: 148563 | Permissions: READ_WRITE',\n",
    "    'Atlassian/Java_test2',\n",
    "    'Atlassian/Java_test3',\n",
    "    'Atlassian/Java_test4 | User: 13448396 | Permissions: READ_ONLY | User: 1414145 | Permissions: READ_ONLY | User: 148563 | Permissions: READ_WRITE | User: 7863225 | Permissions: READ_WRITE',\n",
    "    'Atlassian/Java_test5 | User: 13448396 | Permissions: READ_ONLY | User: 1414145 | Permissions: READ_ONLY | User: 148563 | Permissions: READ_WRITE | User: 7863225 | Permissions: READ_WRITE | User: 13448396 | Permissions: READ_ONLY | User: 1414145 | Permissions: READ_ONLY | User: 148563 | Permissions: READ_WRITE | User: 7863225 | Permissions: READ_WRITE'\n",
    "]}"
   ],
   "metadata": {
    "collapsed": false,
    "ExecuteTime": {
     "end_time": "2024-01-15T18:25:36.955513914Z",
     "start_time": "2024-01-15T18:25:36.953303635Z"
    }
   },
   "id": "9e66d621dacb4468",
   "execution_count": 2
  },
  {
   "cell_type": "code",
   "outputs": [],
   "source": [
    "# Extract information and create a new dataframe\n",
    "user_data = {'Test': [], 'User_ID': [], 'Permission': []}"
   ],
   "metadata": {
    "collapsed": false,
    "ExecuteTime": {
     "end_time": "2024-01-15T18:25:38.774201541Z",
     "start_time": "2024-01-15T18:25:38.766736190Z"
    }
   },
   "id": "a5cff535b6221557",
   "execution_count": 3
  },
  {
   "cell_type": "code",
   "outputs": [],
   "source": [
    "for entry in data['strings']:\n",
    "    parts = entry.split('|')\n",
    "    test_name = parts[0].strip()\n",
    "\n",
    "    for i in range(1, len(parts), 2):\n",
    "        user_info = parts[i].split(':')\n",
    "        user_id = user_info[1].strip()\n",
    "        permission_info = parts[i+1].split(':')\n",
    "        permission = permission_info[1].strip()\n",
    "\n",
    "        user_data['Test'].append(test_name)\n",
    "        user_data['User_ID'].append(user_id)\n",
    "        user_data['Permission'].append(permission)"
   ],
   "metadata": {
    "collapsed": false,
    "ExecuteTime": {
     "end_time": "2024-01-15T18:25:40.912238479Z",
     "start_time": "2024-01-15T18:25:40.897264118Z"
    }
   },
   "id": "53eff2347edaa77d",
   "execution_count": 4
  },
  {
   "cell_type": "code",
   "outputs": [],
   "source": [
    "# Create a DataFrame from the extracted data\n",
    "df = pd.DataFrame(user_data)"
   ],
   "metadata": {
    "collapsed": false,
    "ExecuteTime": {
     "end_time": "2024-01-15T18:25:42.839633664Z",
     "start_time": "2024-01-15T18:25:42.832285466Z"
    }
   },
   "id": "5dd32c1a7cd2b404",
   "execution_count": 5
  },
  {
   "cell_type": "code",
   "outputs": [
    {
     "name": "stdout",
     "output_type": "stream",
     "text": [
      "                    Test   User_ID  Permission\n",
      "0   Atlassian/Java_test0  13448396   READ_ONLY\n",
      "1   Atlassian/Java_test0   1414145   READ_ONLY\n",
      "2   Atlassian/Java_test0    148563  READ_WRITE\n",
      "3   Atlassian/Java_test4  13448396   READ_ONLY\n",
      "4   Atlassian/Java_test4   1414145   READ_ONLY\n",
      "5   Atlassian/Java_test4    148563  READ_WRITE\n",
      "6   Atlassian/Java_test4   7863225  READ_WRITE\n",
      "7   Atlassian/Java_test5  13448396   READ_ONLY\n",
      "8   Atlassian/Java_test5   1414145   READ_ONLY\n",
      "9   Atlassian/Java_test5    148563  READ_WRITE\n",
      "10  Atlassian/Java_test5   7863225  READ_WRITE\n",
      "11  Atlassian/Java_test5  13448396   READ_ONLY\n",
      "12  Atlassian/Java_test5   1414145   READ_ONLY\n",
      "13  Atlassian/Java_test5    148563  READ_WRITE\n",
      "14  Atlassian/Java_test5   7863225  READ_WRITE\n"
     ]
    }
   ],
   "source": [
    "# Display the resulting DataFrame\n",
    "print(df)"
   ],
   "metadata": {
    "collapsed": true,
    "ExecuteTime": {
     "end_time": "2024-01-15T18:25:44.471810676Z",
     "start_time": "2024-01-15T18:25:44.454501136Z"
    }
   },
   "id": "initial_id",
   "execution_count": 6
  },
  {
   "cell_type": "code",
   "outputs": [],
   "source": [],
   "metadata": {
    "collapsed": false
   },
   "id": "18c8d154a6f5a79e"
  }
 ],
 "metadata": {
  "kernelspec": {
   "display_name": "Python 3",
   "language": "python",
   "name": "python3"
  },
  "language_info": {
   "codemirror_mode": {
    "name": "ipython",
    "version": 2
   },
   "file_extension": ".py",
   "mimetype": "text/x-python",
   "name": "python",
   "nbconvert_exporter": "python",
   "pygments_lexer": "ipython2",
   "version": "2.7.6"
  }
 },
 "nbformat": 4,
 "nbformat_minor": 5
}
