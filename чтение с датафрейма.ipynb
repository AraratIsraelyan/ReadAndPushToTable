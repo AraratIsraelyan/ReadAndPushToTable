{
 "cells": [
  {
   "cell_type": "code",
   "execution_count": null,
   "id": "c16646bff0726ae5",
   "metadata": {
    "collapsed": false
   },
   "outputs": [],
   "source": [
    "import pandas as pd"
   ]
  },
  {
   "cell_type": "code",
   "outputs": [],
   "source": [
    "# Your data\n",
    "data = {'strings': [\n",
    "    'Atlassian/Java_test0 | User: 13448396 | Permissions: READ_ONLY | User: 1414145 | Permissions: READ_ONLY | User: 148563 | Permissions: READ_WRITE',\n",
    "    'Atlassian/Java_test2',\n",
    "    'Atlassian/Java_test3',\n",
    "    'Atlassian/Java_test4 | User: 13448396 | Permissions: READ_ONLY | User: 1414145 | Permissions: READ_ONLY | User: 148563 | Permissions: READ_WRITE | User: 7863225 | Permissions: READ_WRITE',\n",
    "    'Atlassian/Java_test5 | User: 13448396 | Permissions: READ_ONLY | User: 1414145 | Permissions: READ_ONLY | User: 148563 | Permissions: READ_WRITE | User: 7863225 | Permissions: READ_WRITE | User: 13448396 | Permissions: READ_ONLY | User: 1414145 | Permissions: READ_ONLY | User: 148563 | Permissions: READ_WRITE | User: 7863225 | Permissions: READ_WRITE'\n",
    "]}"
   ],
   "metadata": {
    "collapsed": false
   },
   "id": "9e66d621dacb4468",
   "execution_count": null
  },
  {
   "cell_type": "code",
   "outputs": [],
   "source": [
    "# Extract information and create a new dataframe\n",
    "user_data = {'Test': [], 'User_ID': [], 'Permission': []}"
   ],
   "metadata": {
    "collapsed": false
   },
   "id": "a5cff535b6221557",
   "execution_count": null
  },
  {
   "cell_type": "code",
   "outputs": [],
   "source": [
    "for entry in data['strings']:\n",
    "    parts = entry.split('|')\n",
    "    test_name = parts[0].strip()\n",
    "\n",
    "    for i in range(1, len(parts), 2):\n",
    "        user_info = parts[i].split(':')\n",
    "        user_id = user_info[1].strip()\n",
    "        permission_info = parts[i+1].split(':')\n",
    "        permission = permission_info[1].strip()\n",
    "\n",
    "        user_data['Test'].append(test_name)\n",
    "        user_data['User_ID'].append(user_id)\n",
    "        user_data['Permission'].append(permission)"
   ],
   "metadata": {
    "collapsed": false
   },
   "id": "53eff2347edaa77d",
   "execution_count": null
  },
  {
   "cell_type": "code",
   "outputs": [],
   "source": [
    "# Create a DataFrame from the extracted data\n",
    "df = pd.DataFrame(user_data)"
   ],
   "metadata": {
    "collapsed": false
   },
   "id": "5dd32c1a7cd2b404",
   "execution_count": null
  },
  {
   "cell_type": "code",
   "outputs": [],
   "source": [
    "# Display the resulting DataFrame\n",
    "print(df)"
   ],
   "metadata": {
    "collapsed": true
   },
   "id": "initial_id",
   "execution_count": null
  },
  {
   "cell_type": "code",
   "outputs": [],
   "source": [],
   "metadata": {
    "collapsed": false
   },
   "id": "18c8d154a6f5a79e"
  }
 ],
 "metadata": {
  "kernelspec": {
   "display_name": "Python 3",
   "language": "python",
   "name": "python3"
  },
  "language_info": {
   "codemirror_mode": {
    "name": "ipython",
    "version": 2
   },
   "file_extension": ".py",
   "mimetype": "text/x-python",
   "name": "python",
   "nbconvert_exporter": "python",
   "pygments_lexer": "ipython2",
   "version": "2.7.6"
  }
 },
 "nbformat": 4,
 "nbformat_minor": 5
}
