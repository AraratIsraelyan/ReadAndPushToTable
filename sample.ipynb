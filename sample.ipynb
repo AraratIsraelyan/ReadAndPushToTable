{
 "cells": [
  {
   "cell_type": "code",
   "execution_count": null,
   "id": "de4324dc16b80b3f",
   "metadata": {
    "collapsed": false
   },
   "outputs": [],
   "source": [
    "import pandas as pd\n",
    "import re"
   ]
  },
  {
   "cell_type": "code",
   "outputs": [],
   "source": [
    "def extract_info(text):\n",
    "    # Паттерн для извлечения данных\n",
    "    pattern = re.compile(r'(\\S+) \\| User: (\\d+) \\| Permissions: (\\w+)?')\n",
    "\n",
    "    # Поиск совпадений в строке\n",
    "    match = pattern.findall(text)\n",
    "\n",
    "    if match:\n",
    "        return match[0]\n",
    "    else:\n",
    "        return (text, None, None)"
   ],
   "metadata": {
    "collapsed": false
   },
   "id": "c17573ee465141e9",
   "execution_count": null
  },
  {
   "cell_type": "code",
   "outputs": [],
   "source": [
    "# Пример данных\n",
    "data = {'strings': [\n",
    "    'Atlassian/Java_test0 | User: 13448396 | Permissions: READ_ONLY | User: 1414145 | Permissions: READ_ONLY | User: 148563 | Permissions: READ_WRITE',\n",
    "    'Atlassian/Java_test2',\n",
    "    'Atlassian/Java_test3',\n",
    "    'Atlassian/Java_test4 | User: 13448396 | Permissions: READ_ONLY | User: 1414145 | Permissions: READ_ONLY | User: 148563 | Permissions: READ_WRITE | User: 7863225 | Permissions: READ_WRITE',\n",
    "    'Atlassian/Java_test5 | User: 13448396 | Permissions: READ_ONLY | User: 1414145 | Permissions: READ_ONLY | User: 148563 | Permissions: READ_WRITE | User: 7863225 | Permissions: READ_WRITE | User: 13448396 | Permissions: READ_ONLY | User: 1414145 | Permissions: READ_ONLY | User: 148563 | Permissions: READ_WRITE | User: 7863225 | Permissions: READ_WRITE'\n",
    "]}"
   ],
   "metadata": {
    "collapsed": false
   },
   "id": "89dbd990d9a646f5",
   "execution_count": null
  },
  {
   "cell_type": "code",
   "outputs": [],
   "source": [
    "# Создание DataFrame\n",
    "df = pd.DataFrame(data)"
   ],
   "metadata": {
    "collapsed": false
   },
   "id": "14b9e6f6d2e30c23",
   "execution_count": null
  },
  {
   "cell_type": "code",
   "outputs": [],
   "source": [
    "# Применение функции extract_info к каждой строке\n",
    "df[['col1', 'col2', 'col3']] = df['strings'].apply(lambda x: pd.Series(extract_info(x)))"
   ],
   "metadata": {
    "collapsed": false
   },
   "id": "e7b41d49038ea501",
   "execution_count": null
  },
  {
   "cell_type": "code",
   "outputs": [],
   "source": [
    "# Вывод результата\n",
    "print(df[['col1', 'col2', 'col3']])"
   ],
   "metadata": {
    "collapsed": true
   },
   "id": "initial_id",
   "execution_count": null
  },
  {
   "cell_type": "code",
   "outputs": [],
   "source": [],
   "metadata": {
    "collapsed": false
   },
   "id": "2ef97f457a65fcc"
  }
 ],
 "metadata": {
  "kernelspec": {
   "display_name": "Python 3",
   "language": "python",
   "name": "python3"
  },
  "language_info": {
   "codemirror_mode": {
    "name": "ipython",
    "version": 2
   },
   "file_extension": ".py",
   "mimetype": "text/x-python",
   "name": "python",
   "nbconvert_exporter": "python",
   "pygments_lexer": "ipython2",
   "version": "2.7.6"
  }
 },
 "nbformat": 4,
 "nbformat_minor": 5
}
